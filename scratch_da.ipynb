{
 "cells": [
  {
   "cell_type": "markdown",
   "metadata": {},
   "source": [
    "Data assimilation viewer"
   ]
  },
  {
   "cell_type": "code",
   "execution_count": 1,
   "metadata": {},
   "outputs": [],
   "source": [
    "import os\n",
    "os.environ[\"KERAS_BACKEND\"] = \"jax\"\n",
    "\n",
    "import jax.numpy as jnp\n",
    "import numpy as np\n",
    "import interact_model as im\n",
    "\n",
    "import jax_cfd.base as cfd"
   ]
  },
  {
   "cell_type": "code",
   "execution_count": 2,
   "metadata": {},
   "outputs": [],
   "source": [
    "import matplotlib.pyplot as plt\n",
    "\n",
    "plt.rcParams.update({\n",
    "    \"text.usetex\": True\n",
    "})"
   ]
  },
  {
   "cell_type": "code",
   "execution_count": 3,
   "metadata": {},
   "outputs": [],
   "source": [
    "Lx = 2 * jnp.pi\n",
    "Ly = 2 * jnp.pi\n",
    "Nx = 512\n",
    "Ny = 512\n",
    "Re = 1000.\n",
    "\n",
    "v_assim = True\n",
    "# if data_assim_arrays.shape[2] == 2:\n",
    "#   vel_assim = True # set false if fit on vort\n",
    "# else:\n",
    "#   vel_assim = False"
   ]
  },
  {
   "cell_type": "markdown",
   "metadata": {},
   "source": [
    "Try and run the assimilator class... "
   ]
  },
  {
   "cell_type": "code",
   "execution_count": 4,
   "metadata": {},
   "outputs": [],
   "source": [
    "import time_stepping as ts\n",
    "from functools import partial\n",
    "\n",
    "# assimilation parameters\n",
    "T_unroll = 2.5 \n",
    "T_da = 0.5 # time over which assimilation was performed\n",
    "M_substep = 8 # when to compare\n",
    "\n",
    "# (0) build grid, stable timestep etc\n",
    "grid = cfd.grids.Grid((Nx, Ny), domain=((0, Lx), (0, Ly)))\n",
    "max_vel_est = 5.\n",
    "dt_stable = cfd.equations.stable_time_step(max_vel_est, 0.5, 1. / Re, grid) / 2.\n",
    "\n",
    "# (2) create forward trajectory and downsample\n",
    "dt_stable = np.round(dt_stable, 3)\n",
    "t_substep = M_substep * dt_stable\n",
    "trajectory_fn = ts.generate_trajectory_fn(Re, T_unroll + 1e-2, dt_stable, grid, t_substep=t_substep)\n",
    "\n",
    "def real_to_real_traj_fn(vort_phys, trajectory_fn):\n",
    "  vort_rft = jnp.fft.rfftn(vort_phys, axes=(0,1))\n",
    "  _, vort_traj_rft = trajectory_fn(vort_rft)\n",
    "  return jnp.fft.irfftn(vort_traj_rft, axes=(1,2))\n",
    "\n",
    "real_traj_fn = partial(real_to_real_traj_fn, trajectory_fn=trajectory_fn)"
   ]
  },
  {
   "cell_type": "code",
   "execution_count": 5,
   "metadata": {},
   "outputs": [],
   "source": [
    "import data_assim as da\n",
    "import optax \n",
    "\n",
    "# # hyper parameters + optimizer \n",
    "lr = 0.2\n",
    "filter_size = 32\n",
    "opt_class = optax.adam\n",
    "T_unroll = 0.5\n",
    "\n",
    "assimilator = da.Assimilator(Re, Nx, Ny, Lx, Ly, T_unroll, filter_size, opt_class, lr, vel_assim=v_assim)"
   ]
  },
  {
   "cell_type": "code",
   "execution_count": 6,
   "metadata": {},
   "outputs": [
    {
     "data": {
      "text/plain": [
       "(512, 512)"
      ]
     },
     "execution_count": 6,
     "metadata": {},
     "output_type": "execute_result"
    }
   ],
   "source": [
    "file_number = 0\n",
    "snap_number = 0\n",
    "DATA_SCALE = 4 # quirk of bad data\n",
    "\n",
    "# load in high-res vorticity field\n",
    "# vort_init = jnp.load('/Users/jpage2/code/jax-cfd-data-gen/Re100test/vort_traj.' \n",
    "#                      + str(file_number).zfill(4) \n",
    "#                      + '.npy')[snap_number] / DATA_SCALE\n",
    "\n",
    "# Re = 1000 dataset: 134 trajectories, each with 100 snaps separated by dt = 1\n",
    "vort_init = jnp.load('/Users/jpage2/code/jax-cfd-data-gen/Re1000/vort_test_Re1000L2pi_' \n",
    "                     + str(file_number).zfill(4)\n",
    "                     + '_0.npy')[snap_number] \n",
    "vort_init.shape"
   ]
  },
  {
   "cell_type": "markdown",
   "metadata": {},
   "source": [
    "Note assimilation routines are currently all setup in serial. Could in theory batch them. "
   ]
  },
  {
   "cell_type": "code",
   "execution_count": 7,
   "metadata": {},
   "outputs": [
    {
     "name": "stdout",
     "output_type": "stream",
     "text": [
      "Step:  1 Loss:  0.37429446\n",
      "Step:  2 Loss:  0.1959316\n",
      "Step:  3 Loss:  0.11867132\n"
     ]
    }
   ],
   "source": [
    "vel_assim = assimilator.assimilate(vort_init, 100)"
   ]
  },
  {
   "cell_type": "markdown",
   "metadata": {},
   "source": [
    "Run tests on Re=1000 "
   ]
  },
  {
   "cell_type": "code",
   "execution_count": null,
   "metadata": {},
   "outputs": [],
   "source": [
    "vort_true = jnp.copy(vort_init)\n",
    "vort_pred = im.compute_vort_traj(vel_assim[jnp.newaxis, ...], Lx / Nx, Ly / Ny)[0, ..., 0]\n",
    "vel_true = im.compute_vel_traj(vort_true[jnp.newaxis, ..., jnp.newaxis], Lx / Nx, Ly / Ny)[0]"
   ]
  },
  {
   "cell_type": "markdown",
   "metadata": {},
   "source": [
    "Plot initial velocity, coarse-grained velocity."
   ]
  },
  {
   "cell_type": "code",
   "execution_count": null,
   "metadata": {},
   "outputs": [],
   "source": []
  },
  {
   "cell_type": "code",
   "execution_count": null,
   "metadata": {},
   "outputs": [],
   "source": [
    "true_trajectory = real_traj_fn(vort_true)\n",
    "# inte_trajectory = real_traj_fn(vort_interp)\n",
    "pred_trajectory = real_traj_fn(vort_pred)\n",
    "\n",
    "if v_assim == True:\n",
    "  true_trajectory = im.compute_vel_traj(true_trajectory[..., jnp.newaxis], Lx / Nx, Ly / Ny)\n",
    "  # inte_trajectory = im.compute_vel_traj(inte_trajectory[..., jnp.newaxis], Lx / Nx, Ly / Ny)\n",
    "  pred_trajectory = im.compute_vel_traj(pred_trajectory[..., jnp.newaxis], Lx / Nx, Ly / Ny)"
   ]
  },
  {
   "cell_type": "code",
   "execution_count": null,
   "metadata": {},
   "outputs": [],
   "source": [
    "t_grid = np.linspace(M_substep * dt_stable, \n",
    "                     len(true_trajectory) * M_substep * dt_stable, \n",
    "                     len(true_trajectory))\n",
    "\n",
    "error_pred = []\n",
    "# error_inte = []\n",
    "\n",
    "for n, _ in enumerate(t_grid):\n",
    "  if v_assim == True:\n",
    "    e_p = jnp.linalg.norm((true_trajectory[n] - pred_trajectory[n]).flatten()) / jnp.linalg.norm(vel_true.flatten())\n",
    "    # e_i = jnp.linalg.norm((true_trajectory[n] - inte_trajectory[n]).flatten()) / jnp.linalg.norm(vel_true.flatten())\n",
    "  else:\n",
    "    e_p = jnp.linalg.norm((true_trajectory[n] - pred_trajectory[n]).flatten()) / jnp.linalg.norm(vort_true.flatten())\n",
    "    # e_i = jnp.linalg.norm((true_trajectory[n] - inte_trajectory[n]).flatten()) / jnp.linalg.norm(vort_true.flatten())\n",
    "  error_pred.append(e_p)\n",
    "  # error_inte.append(e_i)"
   ]
  },
  {
   "cell_type": "code",
   "execution_count": null,
   "metadata": {},
   "outputs": [],
   "source": [
    "fig = plt.figure(figsize=(10, 5)) \n",
    "ax1 = fig.add_subplot(1, 1, 1)\n",
    "ax1.tick_params(labelsize=22)\n",
    "\n",
    "ax1.axvspan(0, T_da, color='k', alpha=0.1)\n",
    "\n",
    "ax1.plot(t_grid, error_pred, c='b', linewidth=3)\n",
    "# ax1.plot(t_grid, error_inte, c='r', linewidth=3)\n",
    "  \n",
    "ax1.set_xlabel(r'$t$', fontsize=26)\n",
    "ax1.set_ylabel(r'$\\varepsilon$', fontsize=26)\n",
    "\n",
    "ax1.set_xlim(0, t_grid[-1])\n",
    "ax1.set_yscale('log')\n",
    "\n",
    "fig.tight_layout()"
   ]
  },
  {
   "cell_type": "code",
   "execution_count": null,
   "metadata": {},
   "outputs": [],
   "source": [
    "T_extract = [0.25, 0.5, 0.75, 1., 1.5, 2., 10.]\n",
    "N_extract = [int(t_e / (M_substep * dt_stable)) for t_e in T_extract]\n",
    "\n",
    "n_plot = len(N_extract)\n",
    "\n",
    "fig = plt.figure(figsize=(4 * n_plot, 8))\n",
    "ax_num = 1\n",
    "\n",
    "v_comp = 2 # if vel assim, which component to plot? if set to \"2\" -> plot vorticity\n",
    "\n",
    "# compute vort (again ... ) if plotting\n",
    "if v_comp > 1:\n",
    "  vort_true_traj = im.compute_vort_traj(true_trajectory, Lx / Nx, Ly / Ny)[..., 0]\n",
    "  vort_pred_traj = im.compute_vort_traj(pred_trajectory, Lx / Nx, Ly / Ny)[..., 0]\n",
    "\n",
    "# for vort, vort_coarse in zip(vort_snapshots[:n_plot], vort_snapshots_coarse[:n_plot]):\n",
    "for n in N_extract:\n",
    "  if v_assim == True:\n",
    "    if v_comp < 2:\n",
    "      v_true = true_trajectory[n, ..., v_comp]\n",
    "      v_pred = pred_trajectory[n, ..., v_comp]\n",
    "    else:\n",
    "      v_true = vort_true_traj[n]\n",
    "      v_pred = vort_pred_traj[n]\n",
    "  else:\n",
    "    v_true = true_trajectory[n]\n",
    "    v_pred = pred_trajectory[n]\n",
    "\n",
    "  ax = fig.add_subplot(2, n_plot, ax_num)\n",
    "  ax.contourf(v_true.T, 101)\n",
    "  ax.set_xticks([])\n",
    "  ax.set_yticks([])\n",
    "\n",
    "  ax = fig.add_subplot(2, n_plot, ax_num + n_plot)\n",
    "  ax.contourf(v_pred.T, 101)\n",
    "  ax.set_xticks([])\n",
    "  ax.set_yticks([])\n",
    "\n",
    "\n",
    "  ax_num += 1\n",
    "fig.tight_layout()"
   ]
  },
  {
   "cell_type": "markdown",
   "metadata": {},
   "source": [
    "Statistics"
   ]
  },
  {
   "cell_type": "code",
   "execution_count": null,
   "metadata": {},
   "outputs": [],
   "source": [
    "# files\n",
    "file_range = range(25)\n",
    "snap_number = 0\n",
    "errors = []\n",
    "\n",
    "for file_number in file_range:\n",
    "  vort_init = jnp.load('/Users/jpage2/code/jax-cfd-data-gen/Re100test/vort_traj.' \n",
    "                      + str(file_number).zfill(4) \n",
    "                      + '.npy')[snap_number] / DATA_SCALE\n",
    "  vel_true = im.compute_vel_traj(vort_init[jnp.newaxis, ..., jnp.newaxis], Lx / Nx, Ly / Ny)\n",
    "\n",
    "  vel_assim = assimilator.assimilate(vort_init, 100)\n",
    "  rel_err = jnp.linalg.norm(vel_true.squeeze().flatten() - vel_assim.flatten()) / jnp.linalg.norm(vel_true.squeeze().flatten())\n",
    "  errors.append(rel_err)"
   ]
  },
  {
   "cell_type": "code",
   "execution_count": null,
   "metadata": {},
   "outputs": [],
   "source": [
    "np.std(errors)"
   ]
  }
 ],
 "metadata": {
  "kernelspec": {
   "display_name": "keras_jax",
   "language": "python",
   "name": "python3"
  },
  "language_info": {
   "codemirror_mode": {
    "name": "ipython",
    "version": 3
   },
   "file_extension": ".py",
   "mimetype": "text/x-python",
   "name": "python",
   "nbconvert_exporter": "python",
   "pygments_lexer": "ipython3",
   "version": "3.12.3"
  }
 },
 "nbformat": 4,
 "nbformat_minor": 2
}
